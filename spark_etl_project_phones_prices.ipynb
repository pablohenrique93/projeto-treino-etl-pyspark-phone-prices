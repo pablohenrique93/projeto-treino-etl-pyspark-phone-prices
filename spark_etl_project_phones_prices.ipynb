{
  "nbformat": 4,
  "nbformat_minor": 0,
  "metadata": {
    "colab": {
      "provenance": [],
      "authorship_tag": "ABX9TyPKI2LP8cHZRQU6LnhScGWP",
      "include_colab_link": true
    },
    "kernelspec": {
      "name": "python3",
      "display_name": "Python 3"
    },
    "language_info": {
      "name": "python"
    }
  },
  "cells": [
    {
      "cell_type": "markdown",
      "metadata": {
        "id": "view-in-github",
        "colab_type": "text"
      },
      "source": [
        "<a href=\"https://colab.research.google.com/github/pablohenrique93/projeto-treino-etl-pyspark-phone-prices/blob/main/spark_etl_project_phones_prices.ipynb\" target=\"_parent\"><img src=\"https://colab.research.google.com/assets/colab-badge.svg\" alt=\"Open In Colab\"/></a>"
      ]
    },
    {
      "cell_type": "markdown",
      "source": [
        "# Instalação das Bibliotecas\n"
      ],
      "metadata": {
        "id": "Z8hiadjPiN1c"
      }
    },
    {
      "cell_type": "code",
      "execution_count": null,
      "metadata": {
        "id": "JFDkvyfjiCmH"
      },
      "outputs": [],
      "source": [
        "pip install pyspark"
      ]
    },
    {
      "cell_type": "code",
      "source": [
        "pip install pymongo"
      ],
      "metadata": {
        "id": "dduAL8qv8LSP"
      },
      "execution_count": null,
      "outputs": []
    },
    {
      "cell_type": "markdown",
      "source": [
        "# Importação das Biliotecas"
      ],
      "metadata": {
        "id": "yxTorOjOiqgS"
      }
    },
    {
      "cell_type": "code",
      "source": [
        "# Importando pandas\n",
        "import pandas as pd\n",
        "\n",
        "# Importando pyspark\n",
        "import pyspark\n",
        "\n",
        "# Importando a SparkSession\n",
        "from pyspark.sql import SparkSession\n",
        "\n",
        "from pyspark.sql import Row\n",
        "from pyspark.sql.types import * # O * significa que será utilizado todo tipo de dado (int, float e etc)\n",
        "import pyspark.sql.functions as F\n",
        "from pyspark.sql.functions import col\n",
        "\n",
        "# Importando pymongo\n",
        "import pymongo\n",
        "from pymongo import MongoClient"
      ],
      "metadata": {
        "id": "gW7xSstbiv0s"
      },
      "execution_count": null,
      "outputs": []
    },
    {
      "cell_type": "markdown",
      "source": [
        "# Configurando e Verificando a Spark Session"
      ],
      "metadata": {
        "id": "fmQe6VeHjL0z"
      }
    },
    {
      "cell_type": "code",
      "source": [
        "# Configurando a variável do ambiente da sessão spark\n",
        "spark = (\n",
        "    SparkSession.builder\n",
        "                .master('local')\n",
        "                .appName('Projeto ETL phone prices')\n",
        "                .config('spark.ui.port','4050')\n",
        "                .getOrCreate()\n",
        ")"
      ],
      "metadata": {
        "id": "_NSWRDKZjR3z"
      },
      "execution_count": null,
      "outputs": []
    },
    {
      "cell_type": "code",
      "source": [
        "spark"
      ],
      "metadata": {
        "id": "2mKNgeOYjgJD"
      },
      "execution_count": null,
      "outputs": []
    },
    {
      "cell_type": "markdown",
      "source": [
        "# Importação e criação do Dataframe"
      ],
      "metadata": {
        "id": "-1O7UWWWj_Ei"
      }
    },
    {
      "cell_type": "code",
      "source": [
        "# Criando Dataframe\n",
        "df = (\n",
        "    spark.createDataFrame(pd.read_csv('/content/cleaned_all_phones.csv'))\n",
        "\n",
        ")"
      ],
      "metadata": {
        "id": "ELnui3ZmkEuh"
      },
      "execution_count": null,
      "outputs": []
    },
    {
      "cell_type": "code",
      "source": [
        "# Visualizando o Dataframe\n",
        "df.show(truncate = True)"
      ],
      "metadata": {
        "id": "elirkCcfnXco"
      },
      "execution_count": null,
      "outputs": []
    },
    {
      "cell_type": "markdown",
      "source": [
        "# Pré Visualização"
      ],
      "metadata": {
        "id": "A8Q_4a-tuwvp"
      }
    },
    {
      "cell_type": "code",
      "source": [
        "# Retornando as 5 primeiras linhas do DataFrame\n",
        "\n",
        "df.head(5)"
      ],
      "metadata": {
        "id": "9ElvcB23u0BB"
      },
      "execution_count": null,
      "outputs": []
    },
    {
      "cell_type": "code",
      "source": [
        "# Exibindo o esquema do DataFrame, mostrando os nomes das colunas e seus tipos de dados.\n",
        "df.printSchema()"
      ],
      "metadata": {
        "id": "iFbxS91BvuiA"
      },
      "execution_count": null,
      "outputs": []
    },
    {
      "cell_type": "code",
      "source": [
        "# Exibindo estatísticas descritivas das colunas numéricas do DataFrame, como média, desvio padrão, mínimo, máximo e etc\n",
        "df.describe().show()"
      ],
      "metadata": {
        "id": "13k-x-VjwHkx"
      },
      "execution_count": null,
      "outputs": []
    },
    {
      "cell_type": "code",
      "source": [
        "# Exibindo as colunas do Dataframe\n",
        "df.columns"
      ],
      "metadata": {
        "id": "w2Md93gywbvo"
      },
      "execution_count": null,
      "outputs": []
    },
    {
      "cell_type": "code",
      "source": [
        "# Exibindo o número total de linhas\n",
        "df.count()"
      ],
      "metadata": {
        "id": "AbQuDqrJwmLp"
      },
      "execution_count": null,
      "outputs": []
    },
    {
      "cell_type": "markdown",
      "source": [
        "# Definição do Schema"
      ],
      "metadata": {
        "id": "1vjlRZYImCEq"
      }
    },
    {
      "cell_type": "code",
      "source": [
        "schema = StructType([\n",
        "                StructField('phone_name', StringType()),\n",
        "                StructField('brand', StringType()),\n",
        "                StructField('os', StringType()),\n",
        "                StructField('inches', FloatType()),\n",
        "                StructField('resolution', StringType()),\n",
        "                StructField('battery', IntegerType()),\n",
        "                StructField('battery_type', StringType()),\n",
        "                StructField('ram(GB)', IntegerType()),\n",
        "                StructField('announcement_date', DateType()),\n",
        "                StructField('weight(g)', FloatType()),\n",
        "                StructField('storage(GB)', IntegerType()),\n",
        "                StructField('video_720p', BooleanType()),\n",
        "                StructField('video_1080p', BooleanType()),\n",
        "                StructField('video_4K', BooleanType()),\n",
        "                StructField('video_8K', BooleanType()),\n",
        "                StructField('video_30fps', BooleanType()),\n",
        "                StructField('video_60fps', BooleanType()),\n",
        "                StructField('video_120fps', IntegerType()),\n",
        "                StructField('video_240fps', BooleanType()),\n",
        "                StructField('video_480fps', BooleanType()),\n",
        "                StructField('video_960fps', BooleanType()),\n",
        "                StructField('price(USD)', FloatType())\n",
        "\n",
        "])\n",
        "\n",
        "# Variável para receber o caminho do Dataframe(localmente) inferindo o schema\n",
        "df2 = spark.read.csv(\"/content/cleaned_all_phones.csv\", header=True, schema=schema)"
      ],
      "metadata": {
        "id": "BTOXgoWtmFvP"
      },
      "execution_count": null,
      "outputs": []
    },
    {
      "cell_type": "code",
      "source": [
        "# Conferindo a tipagem das colunas após inferência do Schema\n",
        "df2.dtypes"
      ],
      "metadata": {
        "id": "WrY7Fm19td4J"
      },
      "execution_count": null,
      "outputs": []
    },
    {
      "cell_type": "code",
      "source": [
        "df2.show()"
      ],
      "metadata": {
        "id": "EqSnr_uArkKL"
      },
      "execution_count": null,
      "outputs": []
    },
    {
      "cell_type": "markdown",
      "source": [
        "# Manipulação do Dataframe"
      ],
      "metadata": {
        "id": "2YyPE7hyti6d"
      }
    },
    {
      "cell_type": "code",
      "source": [
        "# Renomeação e tradução das colunas\n",
        "df3 = df2.toDF(*['nome_celular', 'marca', 'so', 'tamanho_tela_polegada', 'resolucao', 'bateria', 'tipo_bateria',\n",
        "                 'ram(GB)', 'data_anuncio', 'peso(gramas)', 'armazenamento(GB)', 'video_720p', 'video_1080p','video_4K',\n",
        "                 'video_8K', 'video_30fps', 'video_60fps', 'video_120fps', 'video_240fps', 'video_480fps', 'video_960fps', 'preco(USD)'])"
      ],
      "metadata": {
        "id": "_lPV7K_AtzDe"
      },
      "execution_count": null,
      "outputs": []
    },
    {
      "cell_type": "code",
      "source": [
        "# Conferindo dataframe após tradução e renomeação de colunas\n",
        "df3.show()"
      ],
      "metadata": {
        "id": "cAcoYJ-8xN98"
      },
      "execution_count": null,
      "outputs": []
    },
    {
      "cell_type": "code",
      "source": [
        "# Verificando se o dataframe possui linhas duplicadas\n",
        "\n",
        "\n",
        "# Número de linhas antes de remover duplicatas\n",
        "total_linhas_antes = df3.count()\n",
        "\n",
        "# Removendo as linhas duplicadas\n",
        "df_sem_duplicatas = df3.dropDuplicates()\n",
        "\n",
        "# Número de linhas após remover duplicatas\n",
        "total_linhas_depois = df_sem_duplicatas.count()\n",
        "\n",
        "# Comparando o número de linhas antes e depois para verificar se há duplicatas\n",
        "if total_linhas_antes > total_linhas_depois:\n",
        "    print(\"Existem linhas duplicadas no DataFrame.\")\n",
        "else:\n",
        "    print(\"Não há linhas duplicadas no DataFrame.\")\n",
        "\n"
      ],
      "metadata": {
        "id": "5QUojR3qxRA4"
      },
      "execution_count": null,
      "outputs": []
    },
    {
      "cell_type": "code",
      "source": [
        "# Verificando se há valores nulos em cada coluna e contando-os\n",
        "contagem_nulos_por_coluna = []\n",
        "for coluna in df3.columns:\n",
        "    contagem_nulos = df3.filter(col(coluna).isNull()).count()\n",
        "    contagem_nulos_por_coluna.append((coluna, contagem_nulos))\n",
        "\n",
        "# Exibindo a contagem de valores nulos em cada coluna\n",
        "for coluna, contagem in contagem_nulos_por_coluna:\n",
        "    print(f\"A coluna '{coluna}' tem {contagem} valores nulos.\")"
      ],
      "metadata": {
        "id": "_VNu4d1_9_rg"
      },
      "execution_count": null,
      "outputs": []
    },
    {
      "cell_type": "code",
      "source": [
        "# Como verificado, foram encontrados 1512 valores nulos na coluna 'video_120fps'\n",
        "# Desse modo, substituiremos esses valores pelo termo \"Desconhecido\"\n",
        "df4 = df3.fillna({'video_120fps':'Desconhecido'})"
      ],
      "metadata": {
        "id": "020EcHChxJGQ"
      },
      "execution_count": null,
      "outputs": []
    },
    {
      "cell_type": "markdown",
      "source": [
        "# Realização de Consultas"
      ],
      "metadata": {
        "id": "cz2wu_Dj1NaB"
      }
    },
    {
      "cell_type": "code",
      "source": [
        "# Contagem de quantos itens diferentes aparecem na coluna 'preco(USD)'\n",
        "df4.select('preco(USD)').count()"
      ],
      "metadata": {
        "id": "O7ZW9JEn1TCQ"
      },
      "execution_count": null,
      "outputs": []
    },
    {
      "cell_type": "code",
      "source": [
        "# Filtro para identificar os celulares cujos preços são maiores que 420.0 ordenados de forma decrescente\n",
        "\n",
        "df4.select('nome_celular', 'preco(USD)').filter(df3['preco(USD)'] > 420.0).orderBy('preco(USD)', ascending=False).show()"
      ],
      "metadata": {
        "id": "jQx48QgI2D8Z"
      },
      "execution_count": null,
      "outputs": []
    },
    {
      "cell_type": "code",
      "source": [
        "# Exibindo os celulares postados mais recentes, ordenados pela coluna \"data_anuncio\"\n",
        "df4.select(\"nome_celular\", \"data_anuncio\").orderBy(col(\"data_anuncio\").desc()).show()"
      ],
      "metadata": {
        "id": "xD53RKzI4e_p"
      },
      "execution_count": null,
      "outputs": []
    },
    {
      "cell_type": "code",
      "source": [
        "# Exibindo os celulares e suas características ordenados pelos seus respectivos preços\n",
        "df4.select(\n",
        "    \"nome_celular\", \"marca\", \"so\", \"resolucao\", \"bateria\",\n",
        "    \"ram(GB)\", \"armazenamento(GB)\", \"preco(USD)\"\n",
        ").orderBy(col(\"preco(USD)\").desc()).show()\n"
      ],
      "metadata": {
        "id": "pELmTTHg7k73"
      },
      "execution_count": null,
      "outputs": []
    },
    {
      "cell_type": "code",
      "source": [
        "# Exibindo as colunas 'nome_celular', 'marca', 'so', 'video_8K' e 'preco(USD)' somente dos aparelhos que filmam em 8k\n",
        "\n",
        "df4.select('nome_celular', 'marca', 'so', 'video_8K','preco(USD)').filter(df4['video_8K'] == True).show()"
      ],
      "metadata": {
        "id": "wVmFUBFTytPA"
      },
      "execution_count": null,
      "outputs": []
    },
    {
      "cell_type": "code",
      "source": [
        "# Exibindo os celulares que possuem armazenamento maior que 64 GB\n",
        "\n",
        "df4.select('nome_celular', 'marca', 'so','armazenamento(GB)').filter(df4['armazenamento(GB)'] > 64).show()"
      ],
      "metadata": {
        "id": "U57Ngj2JztDZ"
      },
      "execution_count": null,
      "outputs": []
    },
    {
      "cell_type": "code",
      "source": [
        "# Exibindo somente os celulares que possuem a memória RAM maior do que 6\n",
        "df4.select('nome_celular', 'marca', 'so','ram(GB)').filter(df4['ram(GB)'] > 6).show()"
      ],
      "metadata": {
        "id": "9HvBLBOe0wcY"
      },
      "execution_count": null,
      "outputs": []
    },
    {
      "cell_type": "markdown",
      "source": [
        "# Consultas em SQL"
      ],
      "metadata": {
        "id": "4KHXn6lf10YW"
      }
    },
    {
      "cell_type": "code",
      "source": [
        "# Registrando uma tabela temporária\n",
        "df4.registerTempTable('phone_prices')\n",
        "\n",
        "#Declaração de uma variável de saída para receber o comando do sql\n",
        "output = spark.sql('SELECT * FROM phone_prices')\n",
        "output.show()"
      ],
      "metadata": {
        "id": "I32Y-GnE13-x"
      },
      "execution_count": null,
      "outputs": []
    },
    {
      "cell_type": "code",
      "source": [
        "# Consultando colunas específicas\n",
        "output = spark.sql('SELECT nome_celular, marca FROM phone_prices')\n",
        "output.show()"
      ],
      "metadata": {
        "id": "SxL_M3Zx2WOn"
      },
      "execution_count": null,
      "outputs": []
    },
    {
      "cell_type": "code",
      "source": [
        "# Consulta de colunas específicas, declarando um parâmetro, neste caso onde dados da coluna \"preco(USD)\" passam de 350.0\n",
        "output = spark.sql('SELECT nome_celular, marca, so, `ram(GB)`, `armazenamento(GB)`, `preco(USD)` FROM phone_prices WHERE `preco(USD)` > 350')\n",
        "output.show()"
      ],
      "metadata": {
        "id": "5tEcPe8L2l--"
      },
      "execution_count": null,
      "outputs": []
    },
    {
      "cell_type": "code",
      "source": [
        "# Consulta ordenando registros pelo nome_celular\n",
        "output = spark.sql(\"SELECT * FROM phone_prices ORDER BY nome_celular\")\n",
        "output.show()"
      ],
      "metadata": {
        "id": "bOen7yke4QO9"
      },
      "execution_count": null,
      "outputs": []
    },
    {
      "cell_type": "markdown",
      "source": [
        "# Convertendo e salvando dataframe localmente"
      ],
      "metadata": {
        "id": "3ltOhpSh7SHM"
      }
    },
    {
      "cell_type": "code",
      "source": [
        "# Convertendo o df de spark para pandas\n",
        "\n",
        "df4_pandas = df4.toPandas()"
      ],
      "metadata": {
        "id": "WqghEone8nZM"
      },
      "execution_count": null,
      "outputs": []
    },
    {
      "cell_type": "code",
      "source": [
        "# Salvando df4 localmente\n",
        "df4_pandas.to_csv('phone_prices_treated.csv', index=False)"
      ],
      "metadata": {
        "id": "xvnoRzSF-ozU"
      },
      "execution_count": null,
      "outputs": []
    },
    {
      "cell_type": "markdown",
      "source": [
        "# Envio para o MongoDB"
      ],
      "metadata": {
        "id": "b6nlW8rSATSs"
      }
    },
    {
      "cell_type": "code",
      "source": [
        "# Criando conexão com o MongoDB\n",
        "\n",
        "uri = \"mongo_uri\"\n",
        "client = MongoClient(uri,tls=True,tlsCertificateKeyFile='mongo_key')"
      ],
      "metadata": {
        "id": "NdepMO-kAW4X"
      },
      "execution_count": null,
      "outputs": []
    },
    {
      "cell_type": "code",
      "source": [
        "# Criando coleção para enviar para o MongoDB\n",
        "\n",
        "db = client['phone_prices']\n",
        "colecaotreated = db['phone_prices_treated']"
      ],
      "metadata": {
        "id": "8QsmhgSHAn-k"
      },
      "execution_count": null,
      "outputs": []
    },
    {
      "cell_type": "code",
      "source": [
        "# Enviando o Dataset tratado para o MongoDB\n",
        "\n",
        "df4_pandas.reset_index(drop=True)\n",
        "df01 = df4_pandas.to_dict(\"records\")\n",
        "colecaotreated.insert_many(df01)"
      ],
      "metadata": {
        "id": "3xcqmCwmA1KD"
      },
      "execution_count": null,
      "outputs": []
    },
    {
      "cell_type": "code",
      "source": [
        "# Verificando se o arquivo foi enviado com sucesso\n",
        "colecaotreated.count_documents({})\n",
        "# Como podemos conferir o dataset foi enviado corretamente para o MongoDB"
      ],
      "metadata": {
        "id": "6mUauQV1BJx7"
      },
      "execution_count": null,
      "outputs": []
    },
    {
      "cell_type": "markdown",
      "source": [
        "# FIM DO PROCESSO"
      ],
      "metadata": {
        "id": "8LYwwPi9BTaE"
      }
    }
  ]
}